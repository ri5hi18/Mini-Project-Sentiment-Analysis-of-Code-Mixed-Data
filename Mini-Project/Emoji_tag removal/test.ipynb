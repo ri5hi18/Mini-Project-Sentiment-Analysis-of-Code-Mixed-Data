{
 "cells": [
  {
   "cell_type": "code",
   "execution_count": 2,
   "metadata": {},
   "outputs": [],
   "source": [
    "import pandas as pd\n",
    "import re\n",
    "import emoji\n",
    "\n",
    "def replace_emoji_with_text(input_text):\n",
    "    text_with_emojis = emoji.demojize(input_text)\n",
    "    text_without_colons = text_with_emojis.replace(\":\", \"\")\n",
    "    text_with_spaces = \" \".join(text_without_colons.split(\"_\"))\n",
    "    return text_with_spaces\n",
    "\n",
    "def remove_html_and_usernames(input_text):\n",
    "    # Remove HTML tags\n",
    "    text_without_html = re.sub(r'<[^>]+>', '', input_text)\n",
    "    \n",
    "    # Remove usernames containing '@'\n",
    "    text_without_usernames = re.sub(r'@\\w+', '', text_without_html)\n",
    "    \n",
    "    return text_without_usernames\n",
    "\n",
    "# Load the CSV file with explicit encoding\n",
    "input_file = 'comments.csv'\n",
    "output_file = 'output_file.csv'\n",
    "\n",
    "# Read the CSV file\n",
    "df = pd.read_csv(input_file, encoding='utf-8')\n",
    "\n",
    "# Remove HTML tags and filter usernames from the 'commentText' column\n",
    "df['commentText'] = df['commentText'].apply(lambda x: remove_html_and_usernames(str(x)))\n",
    "\n",
    "# Replace emojis in the 'commentText' column\n",
    "df['commentText'] = df['commentText'].apply(lambda x: replace_emoji_with_text(str(x)))\n",
    "\n",
    "# Write the modified content to a new CSV file\n",
    "df.to_csv(output_file, index=False, encoding='utf-8')\n"
   ]
  }
 ],
 "metadata": {
  "kernelspec": {
   "display_name": "Python 3",
   "language": "python",
   "name": "python3"
  },
  "language_info": {
   "codemirror_mode": {
    "name": "ipython",
    "version": 3
   },
   "file_extension": ".py",
   "mimetype": "text/x-python",
   "name": "python",
   "nbconvert_exporter": "python",
   "pygments_lexer": "ipython3",
   "version": "3.11.6"
  }
 },
 "nbformat": 4,
 "nbformat_minor": 2
}
