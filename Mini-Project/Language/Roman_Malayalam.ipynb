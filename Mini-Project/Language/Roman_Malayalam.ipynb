{
 "cells": [
  {
   "cell_type": "code",
   "execution_count": 2,
   "metadata": {},
   "outputs": [
    {
     "name": "stderr",
     "output_type": "stream",
     "text": [
      "C:\\Users\\Acer\\AppData\\Local\\Temp\\ipykernel_17316\\2930967080.py:10: DtypeWarning: Columns (5,6,7,8,10,11,12,13,14,15,16,17,18,19,20,21,22,23,24,25) have mixed types. Specify dtype option on import or set low_memory=False.\n",
      "  df = pd.read_csv(dataset_path)\n"
     ]
    },
    {
     "ename": "TypeError",
     "evalue": "'float' object is not iterable",
     "output_type": "error",
     "traceback": [
      "\u001b[1;31m---------------------------------------------------------------------------\u001b[0m",
      "\u001b[1;31mTypeError\u001b[0m                                 Traceback (most recent call last)",
      "\u001b[1;32me:\\Mini-Project\\Language\\Roman_Malayalam.ipynb Cell 1\u001b[0m line \u001b[0;36m2\n\u001b[0;32m     <a href='vscode-notebook-cell:/e%3A/Mini-Project/Language/Roman_Malayalam.ipynb#W0sZmlsZQ%3D%3D?line=24'>25</a>\u001b[0m dataset_path \u001b[39m=\u001b[39m \u001b[39m\"\u001b[39m\u001b[39mcomments.csv\u001b[39m\u001b[39m\"\u001b[39m  \u001b[39m# Update with the actual path to your dataset\u001b[39;00m\n\u001b[0;32m     <a href='vscode-notebook-cell:/e%3A/Mini-Project/Language/Roman_Malayalam.ipynb#W0sZmlsZQ%3D%3D?line=25'>26</a>\u001b[0m output_path \u001b[39m=\u001b[39m \u001b[39m\"\u001b[39m\u001b[39menglish_entries.csv\u001b[39m\u001b[39m\"\u001b[39m  \u001b[39m# Update with the desired output path\u001b[39;00m\n\u001b[1;32m---> <a href='vscode-notebook-cell:/e%3A/Mini-Project/Language/Roman_Malayalam.ipynb#W0sZmlsZQ%3D%3D?line=27'>28</a>\u001b[0m filter_english_entries(dataset_path, output_path)\n",
      "\u001b[1;32me:\\Mini-Project\\Language\\Roman_Malayalam.ipynb Cell 1\u001b[0m line \u001b[0;36m1\n\u001b[0;32m     <a href='vscode-notebook-cell:/e%3A/Mini-Project/Language/Roman_Malayalam.ipynb#W0sZmlsZQ%3D%3D?line=9'>10</a>\u001b[0m df \u001b[39m=\u001b[39m pd\u001b[39m.\u001b[39mread_csv(dataset_path)\n\u001b[0;32m     <a href='vscode-notebook-cell:/e%3A/Mini-Project/Language/Roman_Malayalam.ipynb#W0sZmlsZQ%3D%3D?line=11'>12</a>\u001b[0m \u001b[39m# Apply the identify_language function to the 'commentText' column\u001b[39;00m\n\u001b[1;32m---> <a href='vscode-notebook-cell:/e%3A/Mini-Project/Language/Roman_Malayalam.ipynb#W0sZmlsZQ%3D%3D?line=12'>13</a>\u001b[0m df[\u001b[39m'\u001b[39m\u001b[39mlanguage\u001b[39m\u001b[39m'\u001b[39m] \u001b[39m=\u001b[39m df[\u001b[39m'\u001b[39;49m\u001b[39mcommentText\u001b[39;49m\u001b[39m'\u001b[39;49m]\u001b[39m.\u001b[39;49mapply(identify_language)\n\u001b[0;32m     <a href='vscode-notebook-cell:/e%3A/Mini-Project/Language/Roman_Malayalam.ipynb#W0sZmlsZQ%3D%3D?line=14'>15</a>\u001b[0m \u001b[39m# Extract the language code from the tuple and create a new 'is_english' column\u001b[39;00m\n\u001b[0;32m     <a href='vscode-notebook-cell:/e%3A/Mini-Project/Language/Roman_Malayalam.ipynb#W0sZmlsZQ%3D%3D?line=15'>16</a>\u001b[0m df[\u001b[39m'\u001b[39m\u001b[39mis_english\u001b[39m\u001b[39m'\u001b[39m] \u001b[39m=\u001b[39m df[\u001b[39m'\u001b[39m\u001b[39mlanguage\u001b[39m\u001b[39m'\u001b[39m]\u001b[39m.\u001b[39mapply(\u001b[39mlambda\u001b[39;00m x: x[\u001b[39m0\u001b[39m] \u001b[39m==\u001b[39m \u001b[39m'\u001b[39m\u001b[39men\u001b[39m\u001b[39m'\u001b[39m)\n",
      "File \u001b[1;32m~\\AppData\\Local\\Packages\\PythonSoftwareFoundation.Python.3.11_qbz5n2kfra8p0\\LocalCache\\local-packages\\Python311\\site-packages\\pandas\\core\\series.py:4760\u001b[0m, in \u001b[0;36mSeries.apply\u001b[1;34m(self, func, convert_dtype, args, by_row, **kwargs)\u001b[0m\n\u001b[0;32m   4625\u001b[0m \u001b[39mdef\u001b[39;00m \u001b[39mapply\u001b[39m(\n\u001b[0;32m   4626\u001b[0m     \u001b[39mself\u001b[39m,\n\u001b[0;32m   4627\u001b[0m     func: AggFuncType,\n\u001b[1;32m   (...)\u001b[0m\n\u001b[0;32m   4632\u001b[0m     \u001b[39m*\u001b[39m\u001b[39m*\u001b[39mkwargs,\n\u001b[0;32m   4633\u001b[0m ) \u001b[39m-\u001b[39m\u001b[39m>\u001b[39m DataFrame \u001b[39m|\u001b[39m Series:\n\u001b[0;32m   4634\u001b[0m \u001b[39m    \u001b[39m\u001b[39m\"\"\"\u001b[39;00m\n\u001b[0;32m   4635\u001b[0m \u001b[39m    Invoke function on values of Series.\u001b[39;00m\n\u001b[0;32m   4636\u001b[0m \n\u001b[1;32m   (...)\u001b[0m\n\u001b[0;32m   4751\u001b[0m \u001b[39m    dtype: float64\u001b[39;00m\n\u001b[0;32m   4752\u001b[0m \u001b[39m    \"\"\"\u001b[39;00m\n\u001b[0;32m   4753\u001b[0m     \u001b[39mreturn\u001b[39;00m SeriesApply(\n\u001b[0;32m   4754\u001b[0m         \u001b[39mself\u001b[39;49m,\n\u001b[0;32m   4755\u001b[0m         func,\n\u001b[0;32m   4756\u001b[0m         convert_dtype\u001b[39m=\u001b[39;49mconvert_dtype,\n\u001b[0;32m   4757\u001b[0m         by_row\u001b[39m=\u001b[39;49mby_row,\n\u001b[0;32m   4758\u001b[0m         args\u001b[39m=\u001b[39;49margs,\n\u001b[0;32m   4759\u001b[0m         kwargs\u001b[39m=\u001b[39;49mkwargs,\n\u001b[1;32m-> 4760\u001b[0m     )\u001b[39m.\u001b[39;49mapply()\n",
      "File \u001b[1;32m~\\AppData\\Local\\Packages\\PythonSoftwareFoundation.Python.3.11_qbz5n2kfra8p0\\LocalCache\\local-packages\\Python311\\site-packages\\pandas\\core\\apply.py:1207\u001b[0m, in \u001b[0;36mSeriesApply.apply\u001b[1;34m(self)\u001b[0m\n\u001b[0;32m   1204\u001b[0m     \u001b[39mreturn\u001b[39;00m \u001b[39mself\u001b[39m\u001b[39m.\u001b[39mapply_compat()\n\u001b[0;32m   1206\u001b[0m \u001b[39m# self.func is Callable\u001b[39;00m\n\u001b[1;32m-> 1207\u001b[0m \u001b[39mreturn\u001b[39;00m \u001b[39mself\u001b[39;49m\u001b[39m.\u001b[39;49mapply_standard()\n",
      "File \u001b[1;32m~\\AppData\\Local\\Packages\\PythonSoftwareFoundation.Python.3.11_qbz5n2kfra8p0\\LocalCache\\local-packages\\Python311\\site-packages\\pandas\\core\\apply.py:1287\u001b[0m, in \u001b[0;36mSeriesApply.apply_standard\u001b[1;34m(self)\u001b[0m\n\u001b[0;32m   1281\u001b[0m \u001b[39m# row-wise access\u001b[39;00m\n\u001b[0;32m   1282\u001b[0m \u001b[39m# apply doesn't have a `na_action` keyword and for backward compat reasons\u001b[39;00m\n\u001b[0;32m   1283\u001b[0m \u001b[39m# we need to give `na_action=\"ignore\"` for categorical data.\u001b[39;00m\n\u001b[0;32m   1284\u001b[0m \u001b[39m# TODO: remove the `na_action=\"ignore\"` when that default has been changed in\u001b[39;00m\n\u001b[0;32m   1285\u001b[0m \u001b[39m#  Categorical (GH51645).\u001b[39;00m\n\u001b[0;32m   1286\u001b[0m action \u001b[39m=\u001b[39m \u001b[39m\"\u001b[39m\u001b[39mignore\u001b[39m\u001b[39m\"\u001b[39m \u001b[39mif\u001b[39;00m \u001b[39misinstance\u001b[39m(obj\u001b[39m.\u001b[39mdtype, CategoricalDtype) \u001b[39melse\u001b[39;00m \u001b[39mNone\u001b[39;00m\n\u001b[1;32m-> 1287\u001b[0m mapped \u001b[39m=\u001b[39m obj\u001b[39m.\u001b[39;49m_map_values(\n\u001b[0;32m   1288\u001b[0m     mapper\u001b[39m=\u001b[39;49mcurried, na_action\u001b[39m=\u001b[39;49maction, convert\u001b[39m=\u001b[39;49m\u001b[39mself\u001b[39;49m\u001b[39m.\u001b[39;49mconvert_dtype\n\u001b[0;32m   1289\u001b[0m )\n\u001b[0;32m   1291\u001b[0m \u001b[39mif\u001b[39;00m \u001b[39mlen\u001b[39m(mapped) \u001b[39mand\u001b[39;00m \u001b[39misinstance\u001b[39m(mapped[\u001b[39m0\u001b[39m], ABCSeries):\n\u001b[0;32m   1292\u001b[0m     \u001b[39m# GH#43986 Need to do list(mapped) in order to get treated as nested\u001b[39;00m\n\u001b[0;32m   1293\u001b[0m     \u001b[39m#  See also GH#25959 regarding EA support\u001b[39;00m\n\u001b[0;32m   1294\u001b[0m     \u001b[39mreturn\u001b[39;00m obj\u001b[39m.\u001b[39m_constructor_expanddim(\u001b[39mlist\u001b[39m(mapped), index\u001b[39m=\u001b[39mobj\u001b[39m.\u001b[39mindex)\n",
      "File \u001b[1;32m~\\AppData\\Local\\Packages\\PythonSoftwareFoundation.Python.3.11_qbz5n2kfra8p0\\LocalCache\\local-packages\\Python311\\site-packages\\pandas\\core\\base.py:921\u001b[0m, in \u001b[0;36mIndexOpsMixin._map_values\u001b[1;34m(self, mapper, na_action, convert)\u001b[0m\n\u001b[0;32m    918\u001b[0m \u001b[39mif\u001b[39;00m \u001b[39misinstance\u001b[39m(arr, ExtensionArray):\n\u001b[0;32m    919\u001b[0m     \u001b[39mreturn\u001b[39;00m arr\u001b[39m.\u001b[39mmap(mapper, na_action\u001b[39m=\u001b[39mna_action)\n\u001b[1;32m--> 921\u001b[0m \u001b[39mreturn\u001b[39;00m algorithms\u001b[39m.\u001b[39;49mmap_array(arr, mapper, na_action\u001b[39m=\u001b[39;49mna_action, convert\u001b[39m=\u001b[39;49mconvert)\n",
      "File \u001b[1;32m~\\AppData\\Local\\Packages\\PythonSoftwareFoundation.Python.3.11_qbz5n2kfra8p0\\LocalCache\\local-packages\\Python311\\site-packages\\pandas\\core\\algorithms.py:1814\u001b[0m, in \u001b[0;36mmap_array\u001b[1;34m(arr, mapper, na_action, convert)\u001b[0m\n\u001b[0;32m   1812\u001b[0m values \u001b[39m=\u001b[39m arr\u001b[39m.\u001b[39mastype(\u001b[39mobject\u001b[39m, copy\u001b[39m=\u001b[39m\u001b[39mFalse\u001b[39;00m)\n\u001b[0;32m   1813\u001b[0m \u001b[39mif\u001b[39;00m na_action \u001b[39mis\u001b[39;00m \u001b[39mNone\u001b[39;00m:\n\u001b[1;32m-> 1814\u001b[0m     \u001b[39mreturn\u001b[39;00m lib\u001b[39m.\u001b[39;49mmap_infer(values, mapper, convert\u001b[39m=\u001b[39;49mconvert)\n\u001b[0;32m   1815\u001b[0m \u001b[39melse\u001b[39;00m:\n\u001b[0;32m   1816\u001b[0m     \u001b[39mreturn\u001b[39;00m lib\u001b[39m.\u001b[39mmap_infer_mask(\n\u001b[0;32m   1817\u001b[0m         values, mapper, mask\u001b[39m=\u001b[39misna(values)\u001b[39m.\u001b[39mview(np\u001b[39m.\u001b[39muint8), convert\u001b[39m=\u001b[39mconvert\n\u001b[0;32m   1818\u001b[0m     )\n",
      "File \u001b[1;32mlib.pyx:2917\u001b[0m, in \u001b[0;36mpandas._libs.lib.map_infer\u001b[1;34m()\u001b[0m\n",
      "\u001b[1;32me:\\Mini-Project\\Language\\Roman_Malayalam.ipynb Cell 1\u001b[0m line \u001b[0;36m6\n\u001b[0;32m      <a href='vscode-notebook-cell:/e%3A/Mini-Project/Language/Roman_Malayalam.ipynb#W0sZmlsZQ%3D%3D?line=3'>4</a>\u001b[0m \u001b[39mdef\u001b[39;00m \u001b[39midentify_language\u001b[39m(text):\n\u001b[0;32m      <a href='vscode-notebook-cell:/e%3A/Mini-Project/Language/Roman_Malayalam.ipynb#W0sZmlsZQ%3D%3D?line=4'>5</a>\u001b[0m     \u001b[39m# Returns a tuple containing the language code and the confidence score\u001b[39;00m\n\u001b[1;32m----> <a href='vscode-notebook-cell:/e%3A/Mini-Project/Language/Roman_Malayalam.ipynb#W0sZmlsZQ%3D%3D?line=5'>6</a>\u001b[0m     \u001b[39mreturn\u001b[39;00m langid\u001b[39m.\u001b[39;49mclassify(text)\n",
      "File \u001b[1;32m~\\AppData\\Local\\Packages\\PythonSoftwareFoundation.Python.3.11_qbz5n2kfra8p0\\LocalCache\\local-packages\\Python311\\site-packages\\langid\\langid.py:107\u001b[0m, in \u001b[0;36mclassify\u001b[1;34m(instance)\u001b[0m\n\u001b[0;32m    104\u001b[0m \u001b[39mif\u001b[39;00m identifier \u001b[39mis\u001b[39;00m \u001b[39mNone\u001b[39;00m:\n\u001b[0;32m    105\u001b[0m   load_model()\n\u001b[1;32m--> 107\u001b[0m \u001b[39mreturn\u001b[39;00m identifier\u001b[39m.\u001b[39;49mclassify(instance)\n",
      "File \u001b[1;32m~\\AppData\\Local\\Packages\\PythonSoftwareFoundation.Python.3.11_qbz5n2kfra8p0\\LocalCache\\local-packages\\Python311\\site-packages\\langid\\langid.py:294\u001b[0m, in \u001b[0;36mLanguageIdentifier.classify\u001b[1;34m(self, text)\u001b[0m\n\u001b[0;32m    290\u001b[0m \u001b[39mdef\u001b[39;00m \u001b[39mclassify\u001b[39m(\u001b[39mself\u001b[39m, text):\n\u001b[0;32m    291\u001b[0m \u001b[39m  \u001b[39m\u001b[39m\"\"\"\u001b[39;00m\n\u001b[0;32m    292\u001b[0m \u001b[39m  Classify an instance.\u001b[39;00m\n\u001b[0;32m    293\u001b[0m \u001b[39m  \"\"\"\u001b[39;00m\n\u001b[1;32m--> 294\u001b[0m   fv \u001b[39m=\u001b[39m \u001b[39mself\u001b[39;49m\u001b[39m.\u001b[39;49minstance2fv(text)\n\u001b[0;32m    295\u001b[0m   probs \u001b[39m=\u001b[39m \u001b[39mself\u001b[39m\u001b[39m.\u001b[39mnorm_probs(\u001b[39mself\u001b[39m\u001b[39m.\u001b[39mnb_classprobs(fv))\n\u001b[0;32m    296\u001b[0m   cl \u001b[39m=\u001b[39m np\u001b[39m.\u001b[39margmax(probs)\n",
      "File \u001b[1;32m~\\AppData\\Local\\Packages\\PythonSoftwareFoundation.Python.3.11_qbz5n2kfra8p0\\LocalCache\\local-packages\\Python311\\site-packages\\langid\\langid.py:272\u001b[0m, in \u001b[0;36mLanguageIdentifier.instance2fv\u001b[1;34m(self, text)\u001b[0m\n\u001b[0;32m    270\u001b[0m state \u001b[39m=\u001b[39m \u001b[39m0\u001b[39m\n\u001b[0;32m    271\u001b[0m statecount \u001b[39m=\u001b[39m defaultdict(\u001b[39mint\u001b[39m)\n\u001b[1;32m--> 272\u001b[0m \u001b[39mfor\u001b[39;49;00m letter \u001b[39min\u001b[39;49;00m text:\n\u001b[0;32m    273\u001b[0m   state \u001b[39m=\u001b[39;49m \u001b[39mself\u001b[39;49m\u001b[39m.\u001b[39;49mtk_nextmove[(state \u001b[39m<<\u001b[39;49m \u001b[39m8\u001b[39;49m) \u001b[39m+\u001b[39;49m letter]\n\u001b[0;32m    274\u001b[0m   statecount[state] \u001b[39m+\u001b[39;49m\u001b[39m=\u001b[39;49m \u001b[39m1\u001b[39;49m\n",
      "\u001b[1;31mTypeError\u001b[0m: 'float' object is not iterable"
     ]
    }
   ],
   "source": [
    "import pandas as pd\n",
    "import langid\n",
    "\n",
    "def identify_language(text):\n",
    "    # Returns a tuple containing the language code and the confidence score\n",
    "    return langid.classify(text)\n",
    "\n",
    "def filter_english_entries(dataset_path, output_path):\n",
    "    # Read the dataset into a Pandas DataFrame\n",
    "    df = pd.read_csv(dataset_path)\n",
    "\n",
    "    # Apply the identify_language function to the 'commentText' column\n",
    "    df['language'] = df['commentText'].apply(identify_language)\n",
    "\n",
    "    # Extract the language code from the tuple and create a new 'is_english' column\n",
    "    df['is_english'] = df['language'].apply(lambda x: x[0] == 'en')\n",
    "\n",
    "    # Filter the DataFrame to include only entries written in English\n",
    "    english_entries_df = df[df['is_english']]\n",
    "\n",
    "    # Save the filtered DataFrame to a new CSV file\n",
    "    english_entries_df.to_csv(output_path, index=False)\n",
    "\n",
    "if __name__ == \"__main__\":\n",
    "    dataset_path = \"comments.csv\"  # Update with the actual path to your dataset\n",
    "    output_path = \"english_entries.csv\"  # Update with the desired output path\n",
    "\n",
    "    filter_english_entries(dataset_path, output_path)\n"
   ]
  },
  {
   "cell_type": "code",
   "execution_count": 3,
   "metadata": {},
   "outputs": [
    {
     "name": "stderr",
     "output_type": "stream",
     "text": [
      "C:\\Users\\Acer\\AppData\\Local\\Temp\\ipykernel_17316\\1747533439.py:13: DtypeWarning: Columns (5,6,7,8,10,11,12,13,14,15,16,17,18,19,20,21,22,23,24,25) have mixed types. Specify dtype option on import or set low_memory=False.\n",
      "  df = pd.read_csv(dataset_path)\n"
     ]
    }
   ],
   "source": [
    "import pandas as pd\n",
    "import langid\n",
    "\n",
    "def identify_language(text):\n",
    "    # Check if the input is a string, otherwise return a default language code\n",
    "    if isinstance(text, str):\n",
    "        return langid.classify(text)\n",
    "    else:\n",
    "        return ('', 0.0)\n",
    "\n",
    "def filter_english_entries(dataset_path, output_path):\n",
    "    # Read the dataset into a Pandas DataFrame\n",
    "    df = pd.read_csv(dataset_path)\n",
    "\n",
    "    # Apply the identify_language function to the 'commentText' column\n",
    "    df['language'] = df['commentText'].apply(identify_language)\n",
    "\n",
    "    # Extract the language code from the tuple and create a new 'is_english' column\n",
    "    df['is_english'] = df['language'].apply(lambda x: x[0] == 'en')\n",
    "\n",
    "    # Filter the DataFrame to include only entries written in English\n",
    "    english_entries_df = df[df['is_english']]\n",
    "\n",
    "    # Save the filtered DataFrame to a new CSV file\n",
    "    english_entries_df.to_csv(output_path, index=False)\n",
    "\n",
    "if __name__ == \"__main__\":\n",
    "    dataset_path = \"comments.csv\"  # Update with the actual path to your dataset\n",
    "    output_path = \"english_entries.csv\"  # Update with the desired output path\n",
    "\n",
    "    filter_english_entries(dataset_path, output_path)\n"
   ]
  }
 ],
 "metadata": {
  "kernelspec": {
   "display_name": "Python 3",
   "language": "python",
   "name": "python3"
  },
  "language_info": {
   "codemirror_mode": {
    "name": "ipython",
    "version": 3
   },
   "file_extension": ".py",
   "mimetype": "text/x-python",
   "name": "python",
   "nbconvert_exporter": "python",
   "pygments_lexer": "ipython3",
   "version": "3.11.6"
  }
 },
 "nbformat": 4,
 "nbformat_minor": 2
}
