{
 "cells": [
  {
   "cell_type": "code",
   "execution_count": 3,
   "metadata": {},
   "outputs": [
    {
     "name": "stdout",
     "output_type": "stream",
     "text": [
      "Malayalam and Malayalam-English mixed data saved to output_malayalam_mixed.csv.\n"
     ]
    }
   ],
   "source": [
    "import pandas as pd\n",
    "import langid\n",
    "\n",
    "def classify_language(text):\n",
    "    # Check if the text is NaN, and return 'na' for NaN values\n",
    "    if pd.isna(text):\n",
    "        return 'na'\n",
    "    \n",
    "    # Classify the language of the text\n",
    "    lang, _ = langid.classify(text)\n",
    "    return lang\n",
    "\n",
    "def filter_malayalam_and_mixed(df):\n",
    "    # Add a new column for language classification\n",
    "    df['language'] = df['commentText'].apply(classify_language)\n",
    "\n",
    "    # Filter only Malayalam and Malayalam-English mixed\n",
    "    filtered_df = df[(df['language'] == 'ml') | (df['language'] == 'ml-en')]\n",
    "\n",
    "    # Drop the language column if you no longer need it\n",
    "    filtered_df = filtered_df.drop(columns=['language'])\n",
    "\n",
    "    return filtered_df\n",
    "\n",
    "def save_to_csv(df, output_path):\n",
    "    df.to_csv(output_path, index=False, encoding='utf-8')\n",
    "\n",
    "# Example usage\n",
    "input_dataset_path = 'comments1.csv'\n",
    "output_csv_path = 'output_malayalam_mixed.csv'\n",
    "\n",
    "# Read the dataset\n",
    "df = pd.read_csv(input_dataset_path, low_memory=False)  # Set low_memory=False to handle mixed-type warnings\n",
    "\n",
    "# Filter only Malayalam and Malayalam-English mixed\n",
    "filtered_df = filter_malayalam_and_mixed(df)\n",
    "\n",
    "# Save the filtered dataframe to a new CSV file\n",
    "save_to_csv(filtered_df, output_csv_path)\n",
    "\n",
    "print(f\"Malayalam and Malayalam-English mixed data saved to {output_csv_path}.\")\n"
   ]
  }
 ],
 "metadata": {
  "kernelspec": {
   "display_name": "Python 3",
   "language": "python",
   "name": "python3"
  },
  "language_info": {
   "codemirror_mode": {
    "name": "ipython",
    "version": 3
   },
   "file_extension": ".py",
   "mimetype": "text/x-python",
   "name": "python",
   "nbconvert_exporter": "python",
   "pygments_lexer": "ipython3",
   "version": "3.11.6"
  }
 },
 "nbformat": 4,
 "nbformat_minor": 2
}
