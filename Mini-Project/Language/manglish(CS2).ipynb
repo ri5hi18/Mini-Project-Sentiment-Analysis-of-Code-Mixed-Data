{
 "cells": [
  {
   "cell_type": "code",
   "execution_count": 1,
   "metadata": {},
   "outputs": [
    {
     "name": "stderr",
     "output_type": "stream",
     "text": [
      "C:\\Users\\Acer\\AppData\\Local\\Temp\\ipykernel_9468\\614615405.py:30: DtypeWarning: Columns (5,6,7,8,10,11,12,13,14,15,16,17,18,19,20,21,22,23,24,25) have mixed types. Specify dtype option on import or set low_memory=False.\n",
      "  df = pd.read_csv(dataset_path)\n"
     ]
    },
    {
     "ename": "TypeError",
     "evalue": "object of type 'float' has no len()",
     "output_type": "error",
     "traceback": [
      "\u001b[1;31m---------------------------------------------------------------------------\u001b[0m",
      "\u001b[1;31mTypeError\u001b[0m                                 Traceback (most recent call last)",
      "\u001b[1;32me:\\Mini-Project\\Language\\manglish(CS2).ipynb Cell 1\u001b[0m line \u001b[0;36m4\n\u001b[0;32m     <a href='vscode-notebook-cell:/e%3A/Mini-Project/Language/manglish%28CS2%29.ipynb#W0sZmlsZQ%3D%3D?line=38'>39</a>\u001b[0m dataset_path \u001b[39m=\u001b[39m \u001b[39m\"\u001b[39m\u001b[39mcomments.csv\u001b[39m\u001b[39m\"\u001b[39m  \u001b[39m# Update with the actual path to your dataset\u001b[39;00m\n\u001b[0;32m     <a href='vscode-notebook-cell:/e%3A/Mini-Project/Language/manglish%28CS2%29.ipynb#W0sZmlsZQ%3D%3D?line=39'>40</a>\u001b[0m output_path \u001b[39m=\u001b[39m \u001b[39m\"\u001b[39m\u001b[39menglish_with_malayalam_meaning.csv\u001b[39m\u001b[39m\"\u001b[39m  \u001b[39m# Update with the desired output path\u001b[39;00m\n\u001b[1;32m---> <a href='vscode-notebook-cell:/e%3A/Mini-Project/Language/manglish%28CS2%29.ipynb#W0sZmlsZQ%3D%3D?line=41'>42</a>\u001b[0m filter_english_with_malayalam_meaning(dataset_path, output_path)\n",
      "\u001b[1;32me:\\Mini-Project\\Language\\manglish(CS2).ipynb Cell 1\u001b[0m line \u001b[0;36m3\n\u001b[0;32m     <a href='vscode-notebook-cell:/e%3A/Mini-Project/Language/manglish%28CS2%29.ipynb#W0sZmlsZQ%3D%3D?line=29'>30</a>\u001b[0m df \u001b[39m=\u001b[39m pd\u001b[39m.\u001b[39mread_csv(dataset_path)\n\u001b[0;32m     <a href='vscode-notebook-cell:/e%3A/Mini-Project/Language/manglish%28CS2%29.ipynb#W0sZmlsZQ%3D%3D?line=31'>32</a>\u001b[0m \u001b[39m# Filter the DataFrame to include only entries with Malayalam meanings\u001b[39;00m\n\u001b[1;32m---> <a href='vscode-notebook-cell:/e%3A/Mini-Project/Language/manglish%28CS2%29.ipynb#W0sZmlsZQ%3D%3D?line=32'>33</a>\u001b[0m english_with_malayalam_meaning_df \u001b[39m=\u001b[39m df[df[\u001b[39m'\u001b[39;49m\u001b[39mcommentText\u001b[39;49m\u001b[39m'\u001b[39;49m]\u001b[39m.\u001b[39;49mapply(is_english_with_malayalam_meaning)]\n\u001b[0;32m     <a href='vscode-notebook-cell:/e%3A/Mini-Project/Language/manglish%28CS2%29.ipynb#W0sZmlsZQ%3D%3D?line=34'>35</a>\u001b[0m \u001b[39m# Save the filtered DataFrame to a new CSV file\u001b[39;00m\n\u001b[0;32m     <a href='vscode-notebook-cell:/e%3A/Mini-Project/Language/manglish%28CS2%29.ipynb#W0sZmlsZQ%3D%3D?line=35'>36</a>\u001b[0m english_with_malayalam_meaning_df\u001b[39m.\u001b[39mto_csv(output_path, index\u001b[39m=\u001b[39m\u001b[39mFalse\u001b[39;00m)\n",
      "File \u001b[1;32m~\\AppData\\Local\\Packages\\PythonSoftwareFoundation.Python.3.11_qbz5n2kfra8p0\\LocalCache\\local-packages\\Python311\\site-packages\\pandas\\core\\series.py:4760\u001b[0m, in \u001b[0;36mSeries.apply\u001b[1;34m(self, func, convert_dtype, args, by_row, **kwargs)\u001b[0m\n\u001b[0;32m   4625\u001b[0m \u001b[39mdef\u001b[39;00m \u001b[39mapply\u001b[39m(\n\u001b[0;32m   4626\u001b[0m     \u001b[39mself\u001b[39m,\n\u001b[0;32m   4627\u001b[0m     func: AggFuncType,\n\u001b[1;32m   (...)\u001b[0m\n\u001b[0;32m   4632\u001b[0m     \u001b[39m*\u001b[39m\u001b[39m*\u001b[39mkwargs,\n\u001b[0;32m   4633\u001b[0m ) \u001b[39m-\u001b[39m\u001b[39m>\u001b[39m DataFrame \u001b[39m|\u001b[39m Series:\n\u001b[0;32m   4634\u001b[0m \u001b[39m    \u001b[39m\u001b[39m\"\"\"\u001b[39;00m\n\u001b[0;32m   4635\u001b[0m \u001b[39m    Invoke function on values of Series.\u001b[39;00m\n\u001b[0;32m   4636\u001b[0m \n\u001b[1;32m   (...)\u001b[0m\n\u001b[0;32m   4751\u001b[0m \u001b[39m    dtype: float64\u001b[39;00m\n\u001b[0;32m   4752\u001b[0m \u001b[39m    \"\"\"\u001b[39;00m\n\u001b[0;32m   4753\u001b[0m     \u001b[39mreturn\u001b[39;00m SeriesApply(\n\u001b[0;32m   4754\u001b[0m         \u001b[39mself\u001b[39;49m,\n\u001b[0;32m   4755\u001b[0m         func,\n\u001b[0;32m   4756\u001b[0m         convert_dtype\u001b[39m=\u001b[39;49mconvert_dtype,\n\u001b[0;32m   4757\u001b[0m         by_row\u001b[39m=\u001b[39;49mby_row,\n\u001b[0;32m   4758\u001b[0m         args\u001b[39m=\u001b[39;49margs,\n\u001b[0;32m   4759\u001b[0m         kwargs\u001b[39m=\u001b[39;49mkwargs,\n\u001b[1;32m-> 4760\u001b[0m     )\u001b[39m.\u001b[39;49mapply()\n",
      "File \u001b[1;32m~\\AppData\\Local\\Packages\\PythonSoftwareFoundation.Python.3.11_qbz5n2kfra8p0\\LocalCache\\local-packages\\Python311\\site-packages\\pandas\\core\\apply.py:1207\u001b[0m, in \u001b[0;36mSeriesApply.apply\u001b[1;34m(self)\u001b[0m\n\u001b[0;32m   1204\u001b[0m     \u001b[39mreturn\u001b[39;00m \u001b[39mself\u001b[39m\u001b[39m.\u001b[39mapply_compat()\n\u001b[0;32m   1206\u001b[0m \u001b[39m# self.func is Callable\u001b[39;00m\n\u001b[1;32m-> 1207\u001b[0m \u001b[39mreturn\u001b[39;00m \u001b[39mself\u001b[39;49m\u001b[39m.\u001b[39;49mapply_standard()\n",
      "File \u001b[1;32m~\\AppData\\Local\\Packages\\PythonSoftwareFoundation.Python.3.11_qbz5n2kfra8p0\\LocalCache\\local-packages\\Python311\\site-packages\\pandas\\core\\apply.py:1287\u001b[0m, in \u001b[0;36mSeriesApply.apply_standard\u001b[1;34m(self)\u001b[0m\n\u001b[0;32m   1281\u001b[0m \u001b[39m# row-wise access\u001b[39;00m\n\u001b[0;32m   1282\u001b[0m \u001b[39m# apply doesn't have a `na_action` keyword and for backward compat reasons\u001b[39;00m\n\u001b[0;32m   1283\u001b[0m \u001b[39m# we need to give `na_action=\"ignore\"` for categorical data.\u001b[39;00m\n\u001b[0;32m   1284\u001b[0m \u001b[39m# TODO: remove the `na_action=\"ignore\"` when that default has been changed in\u001b[39;00m\n\u001b[0;32m   1285\u001b[0m \u001b[39m#  Categorical (GH51645).\u001b[39;00m\n\u001b[0;32m   1286\u001b[0m action \u001b[39m=\u001b[39m \u001b[39m\"\u001b[39m\u001b[39mignore\u001b[39m\u001b[39m\"\u001b[39m \u001b[39mif\u001b[39;00m \u001b[39misinstance\u001b[39m(obj\u001b[39m.\u001b[39mdtype, CategoricalDtype) \u001b[39melse\u001b[39;00m \u001b[39mNone\u001b[39;00m\n\u001b[1;32m-> 1287\u001b[0m mapped \u001b[39m=\u001b[39m obj\u001b[39m.\u001b[39;49m_map_values(\n\u001b[0;32m   1288\u001b[0m     mapper\u001b[39m=\u001b[39;49mcurried, na_action\u001b[39m=\u001b[39;49maction, convert\u001b[39m=\u001b[39;49m\u001b[39mself\u001b[39;49m\u001b[39m.\u001b[39;49mconvert_dtype\n\u001b[0;32m   1289\u001b[0m )\n\u001b[0;32m   1291\u001b[0m \u001b[39mif\u001b[39;00m \u001b[39mlen\u001b[39m(mapped) \u001b[39mand\u001b[39;00m \u001b[39misinstance\u001b[39m(mapped[\u001b[39m0\u001b[39m], ABCSeries):\n\u001b[0;32m   1292\u001b[0m     \u001b[39m# GH#43986 Need to do list(mapped) in order to get treated as nested\u001b[39;00m\n\u001b[0;32m   1293\u001b[0m     \u001b[39m#  See also GH#25959 regarding EA support\u001b[39;00m\n\u001b[0;32m   1294\u001b[0m     \u001b[39mreturn\u001b[39;00m obj\u001b[39m.\u001b[39m_constructor_expanddim(\u001b[39mlist\u001b[39m(mapped), index\u001b[39m=\u001b[39mobj\u001b[39m.\u001b[39mindex)\n",
      "File \u001b[1;32m~\\AppData\\Local\\Packages\\PythonSoftwareFoundation.Python.3.11_qbz5n2kfra8p0\\LocalCache\\local-packages\\Python311\\site-packages\\pandas\\core\\base.py:921\u001b[0m, in \u001b[0;36mIndexOpsMixin._map_values\u001b[1;34m(self, mapper, na_action, convert)\u001b[0m\n\u001b[0;32m    918\u001b[0m \u001b[39mif\u001b[39;00m \u001b[39misinstance\u001b[39m(arr, ExtensionArray):\n\u001b[0;32m    919\u001b[0m     \u001b[39mreturn\u001b[39;00m arr\u001b[39m.\u001b[39mmap(mapper, na_action\u001b[39m=\u001b[39mna_action)\n\u001b[1;32m--> 921\u001b[0m \u001b[39mreturn\u001b[39;00m algorithms\u001b[39m.\u001b[39;49mmap_array(arr, mapper, na_action\u001b[39m=\u001b[39;49mna_action, convert\u001b[39m=\u001b[39;49mconvert)\n",
      "File \u001b[1;32m~\\AppData\\Local\\Packages\\PythonSoftwareFoundation.Python.3.11_qbz5n2kfra8p0\\LocalCache\\local-packages\\Python311\\site-packages\\pandas\\core\\algorithms.py:1814\u001b[0m, in \u001b[0;36mmap_array\u001b[1;34m(arr, mapper, na_action, convert)\u001b[0m\n\u001b[0;32m   1812\u001b[0m values \u001b[39m=\u001b[39m arr\u001b[39m.\u001b[39mastype(\u001b[39mobject\u001b[39m, copy\u001b[39m=\u001b[39m\u001b[39mFalse\u001b[39;00m)\n\u001b[0;32m   1813\u001b[0m \u001b[39mif\u001b[39;00m na_action \u001b[39mis\u001b[39;00m \u001b[39mNone\u001b[39;00m:\n\u001b[1;32m-> 1814\u001b[0m     \u001b[39mreturn\u001b[39;00m lib\u001b[39m.\u001b[39;49mmap_infer(values, mapper, convert\u001b[39m=\u001b[39;49mconvert)\n\u001b[0;32m   1815\u001b[0m \u001b[39melse\u001b[39;00m:\n\u001b[0;32m   1816\u001b[0m     \u001b[39mreturn\u001b[39;00m lib\u001b[39m.\u001b[39mmap_infer_mask(\n\u001b[0;32m   1817\u001b[0m         values, mapper, mask\u001b[39m=\u001b[39misna(values)\u001b[39m.\u001b[39mview(np\u001b[39m.\u001b[39muint8), convert\u001b[39m=\u001b[39mconvert\n\u001b[0;32m   1818\u001b[0m     )\n",
      "File \u001b[1;32mlib.pyx:2917\u001b[0m, in \u001b[0;36mpandas._libs.lib.map_infer\u001b[1;34m()\u001b[0m\n",
      "\u001b[1;32me:\\Mini-Project\\Language\\manglish(CS2).ipynb Cell 1\u001b[0m line \u001b[0;36m1\n\u001b[0;32m      <a href='vscode-notebook-cell:/e%3A/Mini-Project/Language/manglish%28CS2%29.ipynb#W0sZmlsZQ%3D%3D?line=5'>6</a>\u001b[0m \u001b[39m\u001b[39m\u001b[39m\"\"\"\u001b[39;00m\n\u001b[0;32m      <a href='vscode-notebook-cell:/e%3A/Mini-Project/Language/manglish%28CS2%29.ipynb#W0sZmlsZQ%3D%3D?line=6'>7</a>\u001b[0m \u001b[39mCheck if a given English text has a meaningful transliteration in Malayalam.\u001b[39;00m\n\u001b[0;32m      <a href='vscode-notebook-cell:/e%3A/Mini-Project/Language/manglish%28CS2%29.ipynb#W0sZmlsZQ%3D%3D?line=7'>8</a>\u001b[0m \n\u001b[1;32m   (...)\u001b[0m\n\u001b[0;32m     <a href='vscode-notebook-cell:/e%3A/Mini-Project/Language/manglish%28CS2%29.ipynb#W0sZmlsZQ%3D%3D?line=12'>13</a>\u001b[0m \u001b[39m- bool: True if there is a meaningful transliteration in Malayalam, False otherwise.\u001b[39;00m\n\u001b[0;32m     <a href='vscode-notebook-cell:/e%3A/Mini-Project/Language/manglish%28CS2%29.ipynb#W0sZmlsZQ%3D%3D?line=13'>14</a>\u001b[0m \u001b[39m\"\"\"\u001b[39;00m\n\u001b[0;32m     <a href='vscode-notebook-cell:/e%3A/Mini-Project/Language/manglish%28CS2%29.ipynb#W0sZmlsZQ%3D%3D?line=14'>15</a>\u001b[0m \u001b[39m# Transliterate the text to Malayalam\u001b[39;00m\n\u001b[1;32m---> <a href='vscode-notebook-cell:/e%3A/Mini-Project/Language/manglish%28CS2%29.ipynb#W0sZmlsZQ%3D%3D?line=15'>16</a>\u001b[0m malayalam_transliteration \u001b[39m=\u001b[39m indic_transliterate(text, sanscript\u001b[39m.\u001b[39;49mITRANS, sanscript\u001b[39m.\u001b[39;49mMALAYALAM)\n\u001b[0;32m     <a href='vscode-notebook-cell:/e%3A/Mini-Project/Language/manglish%28CS2%29.ipynb#W0sZmlsZQ%3D%3D?line=17'>18</a>\u001b[0m \u001b[39m# Check if the original text and transliterated text are different\u001b[39;00m\n\u001b[0;32m     <a href='vscode-notebook-cell:/e%3A/Mini-Project/Language/manglish%28CS2%29.ipynb#W0sZmlsZQ%3D%3D?line=18'>19</a>\u001b[0m \u001b[39mreturn\u001b[39;00m text\u001b[39m.\u001b[39mlower() \u001b[39m!=\u001b[39m malayalam_transliteration\u001b[39m.\u001b[39mlower()\n",
      "File \u001b[1;32m~\\AppData\\Local\\Packages\\PythonSoftwareFoundation.Python.3.11_qbz5n2kfra8p0\\LocalCache\\local-packages\\Python311\\site-packages\\indic_transliteration\\sanscript\\__init__.py:241\u001b[0m, in \u001b[0;36mtransliterate\u001b[1;34m(data, _from, _to, scheme_map, **kw)\u001b[0m\n\u001b[0;32m    239\u001b[0m func \u001b[39m=\u001b[39m _roman \u001b[39mif\u001b[39;00m scheme_map\u001b[39m.\u001b[39mfrom_scheme\u001b[39m.\u001b[39mis_roman \u001b[39melse\u001b[39;00m _brahmic\n\u001b[0;32m    240\u001b[0m data \u001b[39m=\u001b[39m scheme_map\u001b[39m.\u001b[39mfrom_scheme\u001b[39m.\u001b[39munapply_shortcuts(data_in\u001b[39m=\u001b[39mdata)\n\u001b[1;32m--> 241\u001b[0m result \u001b[39m=\u001b[39m func(data, scheme_map, \u001b[39m*\u001b[39;49m\u001b[39m*\u001b[39;49moptions)\n\u001b[0;32m    242\u001b[0m result \u001b[39m=\u001b[39m scheme_map\u001b[39m.\u001b[39mto_scheme\u001b[39m.\u001b[39mapply_shortcuts(data_in\u001b[39m=\u001b[39mresult)\n\u001b[0;32m    243\u001b[0m \u001b[39mreturn\u001b[39;00m result\n",
      "File \u001b[1;32m~\\AppData\\Local\\Packages\\PythonSoftwareFoundation.Python.3.11_qbz5n2kfra8p0\\LocalCache\\local-packages\\Python311\\site-packages\\indic_transliteration\\sanscript\\roman_mapper.py:32\u001b[0m, in \u001b[0;36m_roman\u001b[1;34m(data, scheme_map, **kw)\u001b[0m\n\u001b[0;32m     30\u001b[0m i \u001b[39m=\u001b[39m \u001b[39m0\u001b[39m\n\u001b[0;32m     31\u001b[0m had_consonant \u001b[39m=\u001b[39m found \u001b[39m=\u001b[39m \u001b[39mFalse\u001b[39;00m\n\u001b[1;32m---> 32\u001b[0m len_data \u001b[39m=\u001b[39m \u001b[39mlen\u001b[39m(data)\n\u001b[0;32m     33\u001b[0m append \u001b[39m=\u001b[39m buf\u001b[39m.\u001b[39mappend\n\u001b[0;32m     35\u001b[0m \u001b[39m# If true, don't transliterate. The toggle token is discarded.\u001b[39;00m\n",
      "\u001b[1;31mTypeError\u001b[0m: object of type 'float' has no len()"
     ]
    }
   ],
   "source": [
    "import pandas as pd\n",
    "from indic_transliteration import sanscript\n",
    "from indic_transliteration.sanscript import transliterate as indic_transliterate\n",
    "\n",
    "def is_english_with_malayalam_meaning(text):\n",
    "    \"\"\"\n",
    "    Check if a given English text has a meaningful transliteration in Malayalam.\n",
    "\n",
    "    Parameters:\n",
    "    - text (str): The input English text.\n",
    "\n",
    "    Returns:\n",
    "    - bool: True if there is a meaningful transliteration in Malayalam, False otherwise.\n",
    "    \"\"\"\n",
    "    # Transliterate the text to Malayalam\n",
    "    malayalam_transliteration = indic_transliterate(text, sanscript.ITRANS, sanscript.MALAYALAM)\n",
    "\n",
    "    # Check if the original text and transliterated text are different\n",
    "    return text.lower() != malayalam_transliteration.lower()\n",
    "\n",
    "def filter_english_with_malayalam_meaning(dataset_path, output_path):\n",
    "    \"\"\"\n",
    "    Filter entries from a dataset, keeping only those with Malayalam meanings.\n",
    "\n",
    "    Parameters:\n",
    "    - dataset_path (str): Path to the input CSV dataset.\n",
    "    - output_path (str): Path to save the filtered CSV dataset.\n",
    "    \"\"\"\n",
    "    # Read the dataset into a Pandas DataFrame\n",
    "    df = pd.read_csv(dataset_path)\n",
    "\n",
    "    # Filter the DataFrame to include only entries with Malayalam meanings\n",
    "    english_with_malayalam_meaning_df = df[df['commentText'].apply(is_english_with_malayalam_meaning)]\n",
    "\n",
    "    # Save the filtered DataFrame to a new CSV file\n",
    "    english_with_malayalam_meaning_df.to_csv(output_path, index=False)\n",
    "\n",
    "if __name__ == \"__main__\":\n",
    "    dataset_path = \"english_entries.csv\"  # Update with the actual path to your dataset\n",
    "    output_path = \"english_with_malayalam_meaning.csv\"  # Update with the desired output path\n",
    "\n",
    "    filter_english_with_malayalam_meaning(dataset_path, output_path)"
   ]
  }
 ],
 "metadata": {
  "kernelspec": {
   "display_name": "Python 3",
   "language": "python",
   "name": "python3"
  },
  "language_info": {
   "codemirror_mode": {
    "name": "ipython",
    "version": 3
   },
   "file_extension": ".py",
   "mimetype": "text/x-python",
   "name": "python",
   "nbconvert_exporter": "python",
   "pygments_lexer": "ipython3",
   "version": "3.11.6"
  }
 },
 "nbformat": 4,
 "nbformat_minor": 2
}
