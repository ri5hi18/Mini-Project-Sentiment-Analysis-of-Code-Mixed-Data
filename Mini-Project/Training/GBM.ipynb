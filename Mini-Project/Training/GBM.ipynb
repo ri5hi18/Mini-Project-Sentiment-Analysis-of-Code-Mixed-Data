{
 "cells": [
  {
   "cell_type": "code",
   "execution_count": 1,
   "metadata": {},
   "outputs": [
    {
     "name": "stdout",
     "output_type": "stream",
     "text": [
      "Test Accuracy: 46.06%\n",
      "Classification Report:\n",
      "              precision    recall  f1-score   support\n",
      "\n",
      "           0       0.57      0.34      0.43       136\n",
      "           1       0.37      0.18      0.25        92\n",
      "           2       0.48      0.74      0.58       218\n",
      "           3       0.35      0.13      0.19        71\n",
      "           4       0.42      0.49      0.45       156\n",
      "\n",
      "    accuracy                           0.46       673\n",
      "   macro avg       0.44      0.38      0.38       673\n",
      "weighted avg       0.46      0.46      0.43       673\n",
      "\n"
     ]
    }
   ],
   "source": [
    "import pandas as pd\n",
    "from sklearn.model_selection import train_test_split\n",
    "from sklearn.feature_extraction.text import TfidfVectorizer\n",
    "from sklearn.ensemble import GradientBoostingClassifier\n",
    "from sklearn.metrics import accuracy_score, classification_report\n",
    "\n",
    "# Load data from CSV\n",
    "file_path = 'file.csv'  # Replace with your file path\n",
    "data = pd.read_csv(file_path)\n",
    "\n",
    "# Ensure 'commentText' column contains strings\n",
    "data['commentText'] = data['commentText'].astype(str)\n",
    "\n",
    "# Function to convert sentiment labels to numerical values\n",
    "sentiment_dict = {\n",
    "    'Positive': 0,\n",
    "    'Negative': 1,\n",
    "    'Not_relevant': 2,\n",
    "    'Mixed Feelings': 3,\n",
    "    'Neutral': 4\n",
    "}\n",
    "\n",
    "data['Sentiment_Class'] = data['Sentiment_Class'].map(sentiment_dict)\n",
    "\n",
    "# Prepare data for GBM\n",
    "X = data['commentText']\n",
    "y = data['Sentiment_Class']\n",
    "\n",
    "# Split the data into training and testing sets\n",
    "X_train, X_test, y_train, y_test = train_test_split(X, y, test_size=0.2, random_state=42)\n",
    "\n",
    "# Convert text data to numerical features using TF-IDF\n",
    "tfidf_vectorizer = TfidfVectorizer(max_features=5000, stop_words='english')\n",
    "X_train_tfidf = tfidf_vectorizer.fit_transform(X_train)\n",
    "X_test_tfidf = tfidf_vectorizer.transform(X_test)\n",
    "\n",
    "# Initialize GBM classifier\n",
    "gbm_classifier = GradientBoostingClassifier(n_estimators=100, learning_rate=0.1, max_depth=3, random_state=42)\n",
    "\n",
    "# Train the classifier\n",
    "gbm_classifier.fit(X_train_tfidf, y_train)\n",
    "\n",
    "# Make predictions on test data\n",
    "y_pred = gbm_classifier.predict(X_test_tfidf)\n",
    "\n",
    "# Evaluate the GBM classifier\n",
    "accuracy = accuracy_score(y_test, y_pred)\n",
    "print(f\"Test Accuracy: {accuracy * 100:.2f}%\")\n",
    "\n",
    "# Print classification report for more detailed evaluation\n",
    "print(\"Classification Report:\")\n",
    "print(classification_report(y_test, y_pred))\n"
   ]
  }
 ],
 "metadata": {
  "kernelspec": {
   "display_name": "Python 3",
   "language": "python",
   "name": "python3"
  },
  "language_info": {
   "codemirror_mode": {
    "name": "ipython",
    "version": 3
   },
   "file_extension": ".py",
   "mimetype": "text/x-python",
   "name": "python",
   "nbconvert_exporter": "python",
   "pygments_lexer": "ipython3",
   "version": "3.11.7"
  }
 },
 "nbformat": 4,
 "nbformat_minor": 2
}
