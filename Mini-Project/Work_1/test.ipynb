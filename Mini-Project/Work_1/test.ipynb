{
 "cells": [
  {
   "cell_type": "code",
   "execution_count": 10,
   "metadata": {},
   "outputs": [
    {
     "name": "stdout",
     "output_type": "stream",
     "text": [
      "I love person in motorized wheelchair light skin tone and soft ice cream!\n"
     ]
    }
   ],
   "source": [
    "import emoji\n",
    "\n",
    "def replace_emoji_with_text(input_text):\n",
    "    text_with_emojis = emoji.demojize(input_text)\n",
    "    text_without_colons = text_with_emojis.replace(\":\", \"\")\n",
    "    text_with_spaces = \" \".join(text_without_colons.split(\"_\"))\n",
    "    return text_with_spaces\n",
    "\n",
    "# Example text with emojis\n",
    "text_with_emojis = \"I love 🧑🏻‍🦼 and 🍦!\"\n",
    "\n",
    "# Replace emojis with text including spaces\n",
    "text_with_text = replace_emoji_with_text(text_with_emojis)\n",
    "\n",
    "print(text_with_text)\n"
   ]
  },
  {
   "cell_type": "code",
   "execution_count": 14,
   "metadata": {},
   "outputs": [],
   "source": [
    "import pandas as pd\n",
    "import emoji\n",
    "\n",
    "def replace_emoji_with_text(input_text):\n",
    "    text_with_emojis = emoji.demojize(input_text)\n",
    "    text_without_colons = text_with_emojis.replace(\":\", \"\")\n",
    "    text_with_spaces = \" \".join(text_without_colons.split(\"_\"))\n",
    "    return text_with_spaces\n",
    "\n",
    "# Load the CSV file with explicit encoding\n",
    "input_file = 'comments.csv'\n",
    "output_file = 'output_file.csv'\n",
    "\n",
    "# Read the CSV file\n",
    "df = pd.read_csv(input_file, encoding='utf-8')\n",
    "\n",
    "# Replace emojis in the 'commentText' column\n",
    "df['commentText'] = df['commentText'].apply(lambda x: replace_emoji_with_text(str(x)))\n",
    "\n",
    "# Write the modified content to a new CSV file\n",
    "df.to_csv(output_file, index=False, encoding='utf-8')\n"
   ]
  }
 ],
 "metadata": {
  "kernelspec": {
   "display_name": "Python 3",
   "language": "python",
   "name": "python3"
  },
  "language_info": {
   "codemirror_mode": {
    "name": "ipython",
    "version": 3
   },
   "file_extension": ".py",
   "mimetype": "text/x-python",
   "name": "python",
   "nbconvert_exporter": "python",
   "pygments_lexer": "ipython3",
   "version": "3.11.6"
  }
 },
 "nbformat": 4,
 "nbformat_minor": 2
}
